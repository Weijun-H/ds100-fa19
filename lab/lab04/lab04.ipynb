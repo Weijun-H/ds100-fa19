{
 "cells": [
  {
   "cell_type": "code",
   "execution_count": 1,
   "metadata": {
    "deletable": false,
    "editable": false
   },
   "outputs": [],
   "source": [
    "# Initialize Otter\n",
    "import otter\n",
    "grader = otter.Notebook()"
   ]
  },
  {
   "cell_type": "markdown",
   "metadata": {
    "nbgrader": {
     "grade": false,
     "grade_id": "intro",
     "locked": true,
     "schema_version": 2,
     "solution": false
    }
   },
   "source": [
    "# Lab 4: Data Cleaning and Visualization\n",
    "\n",
    "In this lab you will be working on visualizing a dataset from the City of Berkeley containing data on calls to the Berkeley Police Department. Information about the dataset can be found [at this link](https://data.cityofberkeley.info/Public-Safety/Berkeley-PD-Calls-for-Service/k2nh-s5h5).\n",
    "\n",
    "Note: This lab will not work on older versions of Python; make sure to work on DataHub.\n",
    "\n",
    "**This assignment should be completed and submitted by 11:59 PM on Thursday July 2, 2020.**\n",
    "\n",
    "**Warning: This lab includes an analysis of crime in Berkeley. If you feel uncomfortable about the topic, please feel free to contact your GSI or the instructors.**"
   ]
  },
  {
   "cell_type": "markdown",
   "metadata": {
    "nbgrader": {
     "grade": false,
     "grade_id": "setup",
     "locked": true,
     "schema_version": 2,
     "solution": false
    }
   },
   "source": [
    "## Setup\n",
    "\n",
    "Note that we configure a custom default figure size. Virtually every default aspect of matplotlib [can be customized](https://matplotlib.org/users/customizing.html)."
   ]
  },
  {
   "cell_type": "code",
   "execution_count": 2,
   "metadata": {
    "nbgrader": {
     "grade": false,
     "grade_id": "imports",
     "locked": true,
     "schema_version": 2,
     "solution": false
    }
   },
   "outputs": [],
   "source": [
    "import pandas as pd\n",
    "import numpy as np\n",
    "import zipfile\n",
    "import matplotlib\n",
    "import matplotlib.pyplot as plt\n",
    "\n",
    "plt.rcParams['figure.figsize'] = (12, 9)"
   ]
  },
  {
   "cell_type": "markdown",
   "metadata": {
    "nbgrader": {
     "grade": false,
     "grade_id": "part1",
     "locked": true,
     "schema_version": 2,
     "solution": false
    }
   },
   "source": [
    "## Part 1: Cleaning and Exploring the Data\n",
    "\n",
    "To retrieve the dataset, we will use the `ds100_utils.fetch_and_cache` utility."
   ]
  },
  {
   "cell_type": "code",
   "execution_count": 3,
   "metadata": {},
   "outputs": [
    {
     "name": "stdout",
     "output_type": "stream",
     "text": [
      "Downloading... Done!\n",
      "Located at data/lab04_data_su20.zip\n"
     ]
    }
   ],
   "source": [
    "import ds100_utils\n",
    "\n",
    "data_dir = 'data'\n",
    "data_url = 'http://www.ds100.org/su20/resources/assets/datasets/lab04_data_su20.zip'\n",
    "file_name = 'lab04_data_su20.zip'\n",
    "\n",
    "dest_path = ds100_utils.fetch_and_cache(data_url=data_url, file=file_name, data_dir=data_dir)\n",
    "print(f'Located at {dest_path}')"
   ]
  },
  {
   "cell_type": "markdown",
   "metadata": {
    "nbgrader": {
     "grade": false,
     "grade_id": "unzip-data-1",
     "locked": true,
     "schema_version": 2,
     "solution": false
    }
   },
   "source": [
    "We will now directly unzip the ZIP archive and start working with the uncompressed files.\n",
    "\n",
    "Note: There is no single right answer regarding whether to work with compressed files in their compressed state or to uncompress them on disk permanently. If you for example need to work with multiple tools on the same files, or write many notebooks to analyze them, and they are not too large, it may be more convenient to uncompress them once.  But you may also have situations where you find it preferable to work with the compressed data directly.  \n",
    "\n",
    "Python gives you tools for both approaches, and you should know how to perform both tasks in order to choose the one that best suits the problem at hand.\n",
    "\n",
    "---\n",
    "\n",
    "Run the cell below to extract the zip file into the data directory."
   ]
  },
  {
   "cell_type": "code",
   "execution_count": 4,
   "metadata": {},
   "outputs": [],
   "source": [
    "my_zip = zipfile.ZipFile(dest_path, 'r')\n",
    "my_zip.extractall(data_dir)"
   ]
  },
  {
   "cell_type": "markdown",
   "metadata": {
    "nbgrader": {
     "grade": false,
     "grade_id": "q0",
     "locked": true,
     "schema_version": 2,
     "solution": false
    }
   },
   "source": [
    "Now, we'll use a method of the `Pathlib.Path` class called `glob` to list all files in the `data` directory. You will find useful information in pathlib [docs](https://docs.python.org/3/library/pathlib.html).\n",
    "\n",
    "Below, we use pathlib's `glob` method to store the list of all files' names from the `data_dir` directory in the variable `file_names`. These names should be strings that contain only the file name (e.g. `dummy.txt` not `data/dummy.txt`). The asterisk (*) character is used with the `glob` method to match any string."
   ]
  },
  {
   "cell_type": "code",
   "execution_count": 5,
   "metadata": {},
   "outputs": [
    {
     "data": {
      "text/plain": [
       "['dummy.txt',\n",
       " 'hello_world.py',\n",
       " 'Berkeley_PD_-_Calls_for_Service.csv',\n",
       " 'lab04_data_su20.zip',\n",
       " 'do_not_readme.md',\n",
       " 'ben_kurtovic.py']"
      ]
     },
     "execution_count": 5,
     "metadata": {},
     "output_type": "execute_result"
    }
   ],
   "source": [
    "from pathlib import Path\n",
    "data_dir_path = Path('data') # creates a Path object that points to the data directory\n",
    "file_names = [x.name for x in data_dir_path.glob('*') if x.is_file()]\n",
    "file_names"
   ]
  },
  {
   "cell_type": "markdown",
   "metadata": {
    "nbgrader": {
     "grade": false,
     "grade_id": "explore-0",
     "locked": true,
     "schema_version": 2,
     "solution": false
    }
   },
   "source": [
    "Let's now load the CSV file we have into a `pandas.DataFrame` object."
   ]
  },
  {
   "cell_type": "code",
   "execution_count": 6,
   "metadata": {},
   "outputs": [
    {
     "data": {
      "text/html": [
       "<div>\n",
       "<style scoped>\n",
       "    .dataframe tbody tr th:only-of-type {\n",
       "        vertical-align: middle;\n",
       "    }\n",
       "\n",
       "    .dataframe tbody tr th {\n",
       "        vertical-align: top;\n",
       "    }\n",
       "\n",
       "    .dataframe thead th {\n",
       "        text-align: right;\n",
       "    }\n",
       "</style>\n",
       "<table border=\"1\" class=\"dataframe\">\n",
       "  <thead>\n",
       "    <tr style=\"text-align: right;\">\n",
       "      <th></th>\n",
       "      <th>CASENO</th>\n",
       "      <th>OFFENSE</th>\n",
       "      <th>EVENTDT</th>\n",
       "      <th>EVENTTM</th>\n",
       "      <th>CVLEGEND</th>\n",
       "      <th>CVDOW</th>\n",
       "      <th>InDbDate</th>\n",
       "      <th>Block_Location</th>\n",
       "      <th>BLKADDR</th>\n",
       "      <th>City</th>\n",
       "      <th>State</th>\n",
       "    </tr>\n",
       "  </thead>\n",
       "  <tbody>\n",
       "    <tr>\n",
       "      <th>0</th>\n",
       "      <td>18022300</td>\n",
       "      <td>DISTURBANCE</td>\n",
       "      <td>04/18/2018 12:00:00 AM</td>\n",
       "      <td>22:17</td>\n",
       "      <td>DISORDERLY CONDUCT</td>\n",
       "      <td>3</td>\n",
       "      <td>09/06/2018 03:30:12 AM</td>\n",
       "      <td>OREGON STREET &amp;amp; MCGEE AVE\\nBerkeley, CA\\n(...</td>\n",
       "      <td>OREGON STREET &amp; MCGEE AVE</td>\n",
       "      <td>Berkeley</td>\n",
       "      <td>CA</td>\n",
       "    </tr>\n",
       "    <tr>\n",
       "      <th>1</th>\n",
       "      <td>18026683</td>\n",
       "      <td>THEFT MISD. (UNDER $950)</td>\n",
       "      <td>05/09/2018 12:00:00 AM</td>\n",
       "      <td>21:25</td>\n",
       "      <td>LARCENY</td>\n",
       "      <td>3</td>\n",
       "      <td>09/06/2018 03:30:13 AM</td>\n",
       "      <td>200 UNIVERSITY AVE\\nBerkeley, CA\\n(37.865511, ...</td>\n",
       "      <td>200 UNIVERSITY AVE</td>\n",
       "      <td>Berkeley</td>\n",
       "      <td>CA</td>\n",
       "    </tr>\n",
       "    <tr>\n",
       "      <th>2</th>\n",
       "      <td>18038550</td>\n",
       "      <td>THEFT MISD. (UNDER $950)</td>\n",
       "      <td>05/18/2018 12:00:00 AM</td>\n",
       "      <td>20:00</td>\n",
       "      <td>LARCENY</td>\n",
       "      <td>5</td>\n",
       "      <td>09/06/2018 03:30:09 AM</td>\n",
       "      <td>2200 MILVIA ST\\nBerkeley, CA\\n(37.868574, -122...</td>\n",
       "      <td>2200 MILVIA ST</td>\n",
       "      <td>Berkeley</td>\n",
       "      <td>CA</td>\n",
       "    </tr>\n",
       "    <tr>\n",
       "      <th>3</th>\n",
       "      <td>18014810</td>\n",
       "      <td>BURGLARY AUTO</td>\n",
       "      <td>03/13/2018 12:00:00 AM</td>\n",
       "      <td>08:50</td>\n",
       "      <td>BURGLARY - VEHICLE</td>\n",
       "      <td>2</td>\n",
       "      <td>09/06/2018 03:30:08 AM</td>\n",
       "      <td>1200 SIXTH ST\\nBerkeley, CA\\n(37.881142, -122....</td>\n",
       "      <td>1200 SIXTH ST</td>\n",
       "      <td>Berkeley</td>\n",
       "      <td>CA</td>\n",
       "    </tr>\n",
       "    <tr>\n",
       "      <th>4</th>\n",
       "      <td>18018643</td>\n",
       "      <td>ALCOHOL OFFENSE</td>\n",
       "      <td>03/31/2018 12:00:00 AM</td>\n",
       "      <td>13:29</td>\n",
       "      <td>LIQUOR LAW VIOLATION</td>\n",
       "      <td>6</td>\n",
       "      <td>09/06/2018 03:30:11 AM</td>\n",
       "      <td>CENTER STREET &amp;amp; SHATTUCK AVE\\nBerkeley, CA...</td>\n",
       "      <td>CENTER STREET &amp; SHATTUCK AVE</td>\n",
       "      <td>Berkeley</td>\n",
       "      <td>CA</td>\n",
       "    </tr>\n",
       "  </tbody>\n",
       "</table>\n",
       "</div>"
      ],
      "text/plain": [
       "     CASENO                   OFFENSE                 EVENTDT EVENTTM  \\\n",
       "0  18022300               DISTURBANCE  04/18/2018 12:00:00 AM   22:17   \n",
       "1  18026683  THEFT MISD. (UNDER $950)  05/09/2018 12:00:00 AM   21:25   \n",
       "2  18038550  THEFT MISD. (UNDER $950)  05/18/2018 12:00:00 AM   20:00   \n",
       "3  18014810             BURGLARY AUTO  03/13/2018 12:00:00 AM   08:50   \n",
       "4  18018643           ALCOHOL OFFENSE  03/31/2018 12:00:00 AM   13:29   \n",
       "\n",
       "               CVLEGEND  CVDOW                InDbDate  \\\n",
       "0    DISORDERLY CONDUCT      3  09/06/2018 03:30:12 AM   \n",
       "1               LARCENY      3  09/06/2018 03:30:13 AM   \n",
       "2               LARCENY      5  09/06/2018 03:30:09 AM   \n",
       "3    BURGLARY - VEHICLE      2  09/06/2018 03:30:08 AM   \n",
       "4  LIQUOR LAW VIOLATION      6  09/06/2018 03:30:11 AM   \n",
       "\n",
       "                                      Block_Location  \\\n",
       "0  OREGON STREET &amp; MCGEE AVE\\nBerkeley, CA\\n(...   \n",
       "1  200 UNIVERSITY AVE\\nBerkeley, CA\\n(37.865511, ...   \n",
       "2  2200 MILVIA ST\\nBerkeley, CA\\n(37.868574, -122...   \n",
       "3  1200 SIXTH ST\\nBerkeley, CA\\n(37.881142, -122....   \n",
       "4  CENTER STREET &amp; SHATTUCK AVE\\nBerkeley, CA...   \n",
       "\n",
       "                        BLKADDR      City State  \n",
       "0     OREGON STREET & MCGEE AVE  Berkeley    CA  \n",
       "1            200 UNIVERSITY AVE  Berkeley    CA  \n",
       "2                2200 MILVIA ST  Berkeley    CA  \n",
       "3                 1200 SIXTH ST  Berkeley    CA  \n",
       "4  CENTER STREET & SHATTUCK AVE  Berkeley    CA  "
      ]
     },
     "execution_count": 6,
     "metadata": {},
     "output_type": "execute_result"
    }
   ],
   "source": [
    "calls = pd.read_csv(\"data/Berkeley_PD_-_Calls_for_Service.csv\")\n",
    "calls.head()"
   ]
  },
  {
   "cell_type": "markdown",
   "metadata": {},
   "source": [
    "We see that the fields include a case number, the offense type, the date and time of the offense, the \"CVLEGEND\" which appears to be related to the offense type, a \"CVDOW\" which has no apparent meaning, a date added to the database, and the location spread across four fields.\n",
    "\n",
    "Let's also check some basic information about these files using the `DataFrame.info` and `DataFrame.describe` methods."
   ]
  },
  {
   "cell_type": "code",
   "execution_count": 10,
   "metadata": {},
   "outputs": [
    {
     "name": "stdout",
     "output_type": "stream",
     "text": [
      "<class 'pandas.core.frame.DataFrame'>\n",
      "RangeIndex: 3788 entries, 0 to 3787\n",
      "Data columns (total 11 columns):\n",
      " #   Column          Non-Null Count  Dtype \n",
      "---  ------          --------------  ----- \n",
      " 0   CASENO          3788 non-null   int64 \n",
      " 1   OFFENSE         3788 non-null   object\n",
      " 2   EVENTDT         3788 non-null   object\n",
      " 3   EVENTTM         3788 non-null   object\n",
      " 4   CVLEGEND        3788 non-null   object\n",
      " 5   CVDOW           3788 non-null   int64 \n",
      " 6   InDbDate        3788 non-null   object\n",
      " 7   Block_Location  3788 non-null   object\n",
      " 8   BLKADDR         3766 non-null   object\n",
      " 9   City            3788 non-null   object\n",
      " 10  State           3788 non-null   object\n",
      "dtypes: int64(2), object(9)\n",
      "memory usage: 325.7+ KB\n"
     ]
    }
   ],
   "source": [
    "calls.info()"
   ]
  },
  {
   "cell_type": "code",
   "execution_count": 11,
   "metadata": {},
   "outputs": [
    {
     "data": {
      "text/html": [
       "<div>\n",
       "<style scoped>\n",
       "    .dataframe tbody tr th:only-of-type {\n",
       "        vertical-align: middle;\n",
       "    }\n",
       "\n",
       "    .dataframe tbody tr th {\n",
       "        vertical-align: top;\n",
       "    }\n",
       "\n",
       "    .dataframe thead th {\n",
       "        text-align: right;\n",
       "    }\n",
       "</style>\n",
       "<table border=\"1\" class=\"dataframe\">\n",
       "  <thead>\n",
       "    <tr style=\"text-align: right;\">\n",
       "      <th></th>\n",
       "      <th>CASENO</th>\n",
       "      <th>CVDOW</th>\n",
       "    </tr>\n",
       "  </thead>\n",
       "  <tbody>\n",
       "    <tr>\n",
       "      <th>count</th>\n",
       "      <td>3.788000e+03</td>\n",
       "      <td>3788.000000</td>\n",
       "    </tr>\n",
       "    <tr>\n",
       "      <th>mean</th>\n",
       "      <td>1.804387e+07</td>\n",
       "      <td>2.997888</td>\n",
       "    </tr>\n",
       "    <tr>\n",
       "      <th>std</th>\n",
       "      <td>2.665970e+04</td>\n",
       "      <td>1.952160</td>\n",
       "    </tr>\n",
       "    <tr>\n",
       "      <th>min</th>\n",
       "      <td>1.801375e+07</td>\n",
       "      <td>0.000000</td>\n",
       "    </tr>\n",
       "    <tr>\n",
       "      <th>25%</th>\n",
       "      <td>1.802444e+07</td>\n",
       "      <td>1.000000</td>\n",
       "    </tr>\n",
       "    <tr>\n",
       "      <th>50%</th>\n",
       "      <td>1.803530e+07</td>\n",
       "      <td>3.000000</td>\n",
       "    </tr>\n",
       "    <tr>\n",
       "      <th>75%</th>\n",
       "      <td>1.804537e+07</td>\n",
       "      <td>5.000000</td>\n",
       "    </tr>\n",
       "    <tr>\n",
       "      <th>max</th>\n",
       "      <td>1.809135e+07</td>\n",
       "      <td>6.000000</td>\n",
       "    </tr>\n",
       "  </tbody>\n",
       "</table>\n",
       "</div>"
      ],
      "text/plain": [
       "             CASENO        CVDOW\n",
       "count  3.788000e+03  3788.000000\n",
       "mean   1.804387e+07     2.997888\n",
       "std    2.665970e+04     1.952160\n",
       "min    1.801375e+07     0.000000\n",
       "25%    1.802444e+07     1.000000\n",
       "50%    1.803530e+07     3.000000\n",
       "75%    1.804537e+07     5.000000\n",
       "max    1.809135e+07     6.000000"
      ]
     },
     "execution_count": 11,
     "metadata": {},
     "output_type": "execute_result"
    }
   ],
   "source": [
    "calls.describe()"
   ]
  },
  {
   "cell_type": "markdown",
   "metadata": {
    "nbgrader": {
     "grade": false,
     "grade_id": "explore-4",
     "locked": true,
     "schema_version": 2,
     "solution": false
    }
   },
   "source": [
    "Notice that the functions above reveal type information for the columns, as well as some basic statistics about the numerical columns found in the DataFrame. However, we still need more information about what each column represents. Let's explore the data further in Question 1.\n",
    "\n",
    "Before we go over the fields to see their meanings, the cell below will verify that all the events happened in Berkeley by grouping on the `City` and `State` columns. You should see that all of our data falls into one group."
   ]
  },
  {
   "cell_type": "code",
   "execution_count": 12,
   "metadata": {},
   "outputs": [
    {
     "data": {
      "text/html": [
       "<div>\n",
       "<style scoped>\n",
       "    .dataframe tbody tr th:only-of-type {\n",
       "        vertical-align: middle;\n",
       "    }\n",
       "\n",
       "    .dataframe tbody tr th {\n",
       "        vertical-align: top;\n",
       "    }\n",
       "\n",
       "    .dataframe thead th {\n",
       "        text-align: right;\n",
       "    }\n",
       "</style>\n",
       "<table border=\"1\" class=\"dataframe\">\n",
       "  <thead>\n",
       "    <tr style=\"text-align: right;\">\n",
       "      <th></th>\n",
       "      <th></th>\n",
       "      <th>CASENO</th>\n",
       "      <th>OFFENSE</th>\n",
       "      <th>EVENTDT</th>\n",
       "      <th>EVENTTM</th>\n",
       "      <th>CVLEGEND</th>\n",
       "      <th>CVDOW</th>\n",
       "      <th>InDbDate</th>\n",
       "      <th>Block_Location</th>\n",
       "      <th>BLKADDR</th>\n",
       "    </tr>\n",
       "    <tr>\n",
       "      <th>City</th>\n",
       "      <th>State</th>\n",
       "      <th></th>\n",
       "      <th></th>\n",
       "      <th></th>\n",
       "      <th></th>\n",
       "      <th></th>\n",
       "      <th></th>\n",
       "      <th></th>\n",
       "      <th></th>\n",
       "      <th></th>\n",
       "    </tr>\n",
       "  </thead>\n",
       "  <tbody>\n",
       "    <tr>\n",
       "      <th>Berkeley</th>\n",
       "      <th>CA</th>\n",
       "      <td>3788</td>\n",
       "      <td>3788</td>\n",
       "      <td>3788</td>\n",
       "      <td>3788</td>\n",
       "      <td>3788</td>\n",
       "      <td>3788</td>\n",
       "      <td>3788</td>\n",
       "      <td>3788</td>\n",
       "      <td>3766</td>\n",
       "    </tr>\n",
       "  </tbody>\n",
       "</table>\n",
       "</div>"
      ],
      "text/plain": [
       "                CASENO  OFFENSE  EVENTDT  EVENTTM  CVLEGEND  CVDOW  InDbDate  \\\n",
       "City     State                                                                 \n",
       "Berkeley CA       3788     3788     3788     3788      3788   3788      3788   \n",
       "\n",
       "                Block_Location  BLKADDR  \n",
       "City     State                           \n",
       "Berkeley CA               3788     3766  "
      ]
     },
     "execution_count": 12,
     "metadata": {},
     "output_type": "execute_result"
    }
   ],
   "source": [
    "calls.groupby([\"City\",\"State\"]).count()"
   ]
  },
  {
   "cell_type": "markdown",
   "metadata": {
    "nbgrader": {
     "grade": false,
     "grade_id": "q1",
     "locked": true,
     "schema_version": 2,
     "solution": false
    }
   },
   "source": [
    "### Question 1\n",
    "Above, when we called `head`, it seemed like `OFFENSE` and `CVLEGEND` both contained information about the type of event reported. What is the difference in meaning between the two columns? One way to probe this is to look at the `value_counts` for each Series."
   ]
  },
  {
   "cell_type": "code",
   "execution_count": 13,
   "metadata": {},
   "outputs": [
    {
     "data": {
      "text/plain": [
       "BURGLARY AUTO               658\n",
       "THEFT MISD. (UNDER $950)    633\n",
       "DISTURBANCE                 277\n",
       "VANDALISM                   248\n",
       "VEHICLE STOLEN              235\n",
       "THEFT FELONY (OVER $950)    214\n",
       "BURGLARY RESIDENTIAL        194\n",
       "ASSAULT/BATTERY MISD.       190\n",
       "ROBBERY                     168\n",
       "NARCOTICS                   118\n",
       "Name: OFFENSE, dtype: int64"
      ]
     },
     "execution_count": 13,
     "metadata": {},
     "output_type": "execute_result"
    }
   ],
   "source": [
    "calls['OFFENSE'].value_counts().head(10)"
   ]
  },
  {
   "cell_type": "code",
   "execution_count": 14,
   "metadata": {},
   "outputs": [
    {
     "data": {
      "text/plain": [
       "LARCENY                   871\n",
       "BURGLARY - VEHICLE        658\n",
       "DISORDERLY CONDUCT        279\n",
       "ASSAULT                   263\n",
       "VANDALISM                 248\n",
       "MOTOR VEHICLE THEFT       235\n",
       "FRAUD                     208\n",
       "BURGLARY - RESIDENTIAL    194\n",
       "ROBBERY                   168\n",
       "DRUG VIOLATION            118\n",
       "Name: CVLEGEND, dtype: int64"
      ]
     },
     "execution_count": 14,
     "metadata": {},
     "output_type": "execute_result"
    }
   ],
   "source": [
    "calls['CVLEGEND'].value_counts().head(10)"
   ]
  },
  {
   "cell_type": "markdown",
   "metadata": {
    "deletable": false,
    "editable": false,
    "nbgrader": {
     "grade": false,
     "grade_id": "q1a",
     "locked": true,
     "schema_version": 2,
     "solution": false
    }
   },
   "source": [
    "#### Question 1a\n",
    "\n",
    "Above, it seems like `OFFENSE` is more specific than `CVLEGEND`, e.g. \"LARCENY\" vs. \"THEFT FELONY (OVER $950)\". If you're unfamiliar with the term, \"larceny\" is a legal term for theft of personal property.\n",
    "\n",
    "To get a sense of how many subcategories there are for each `OFFENSE`, set `calls_by_cvlegend_and_offense` equal to a multi-indexed series where the data is first indexed on the `CVLEGEND` and then on the `OFFENSE`, and the data is equal to the number of offenses in the database that match the respective `CVLEGEND` and `OFFENSE`. For example, calls_by_cvlegend_and_offense[\"LARCENY\", \"THEFT FROM PERSON\"] should return 24.\n",
    "\n",
    "<!--\n",
    "BEGIN QUESTION\n",
    "name: q1a\n",
    "-->"
   ]
  },
  {
   "cell_type": "code",
   "execution_count": 23,
   "metadata": {},
   "outputs": [
    {
     "data": {
      "text/plain": [
       "CVLEGEND                OFFENSE                 \n",
       "ALL OTHER OFFENSES      MUNICIPAL CODE                3\n",
       "ARSON                   ARSON                        18\n",
       "ASSAULT                 ASSAULT/BATTERY FEL.         73\n",
       "                        ASSAULT/BATTERY MISD.       190\n",
       "BURGLARY - COMMERCIAL   BURGLARY COMMERCIAL         112\n",
       "BURGLARY - RESIDENTIAL  BURGLARY RESIDENTIAL        194\n",
       "BURGLARY - VEHICLE      BURGLARY AUTO               658\n",
       "DISORDERLY CONDUCT      DISTURBANCE                 277\n",
       "                        VICE                          2\n",
       "DRUG VIOLATION          NARCOTICS                   118\n",
       "FAMILY OFFENSE          DOMESTIC VIOLENCE           108\n",
       "FRAUD                   FRAUD/FORGERY                95\n",
       "                        IDENTITY THEFT              113\n",
       "HOMICIDE                HOMICIDE                      1\n",
       "KIDNAPPING              KIDNAPPING                    6\n",
       "LARCENY                 THEFT FELONY (OVER $950)    214\n",
       "                        THEFT FROM PERSON            24\n",
       "                        THEFT MISD. (UNDER $950)    633\n",
       "LARCENY - FROM VEHICLE  THEFT FROM AUTO              87\n",
       "LIQUOR LAW VIOLATION    ALCOHOL OFFENSE              53\n",
       "MISSING PERSON          MISSING ADULT                30\n",
       "                        MISSING JUVENILE              8\n",
       "MOTOR VEHICLE THEFT     VEHICLE STOLEN              235\n",
       "NOISE VIOLATION         2ND RESPONSE                  3\n",
       "                        DISTURBANCE - NOISE           1\n",
       "RECOVERED VEHICLE       VEHICLE RECOVERED            15\n",
       "ROBBERY                 ROBBERY                     168\n",
       "SEX CRIME               SEXUAL ASSAULT FEL.          23\n",
       "                        SEXUAL ASSAULT MISD.         12\n",
       "VANDALISM               VANDALISM                   248\n",
       "WEAPONS OFFENSE         BRANDISHING                  43\n",
       "                        GUN/WEAPON                   23\n",
       "dtype: int64"
      ]
     },
     "execution_count": 23,
     "metadata": {},
     "output_type": "execute_result"
    }
   ],
   "source": [
    "calls_by_cvlegend_and_offense = calls.groupby(['CVLEGEND', 'OFFENSE']).size()\n",
    "calls_by_cvlegend_and_offense"
   ]
  },
  {
   "cell_type": "code",
   "execution_count": 21,
   "metadata": {
    "deletable": false,
    "editable": false
   },
   "outputs": [
    {
     "data": {
      "text/html": [
       "<p><strong><pre style='display: inline;'>q1a</pre></strong> passed!</p>"
      ],
      "text/plain": [
       "q1a results: All test cases passed!"
      ]
     },
     "execution_count": 21,
     "metadata": {},
     "output_type": "execute_result"
    }
   ],
   "source": [
    "grader.check(\"q1a\")"
   ]
  },
  {
   "cell_type": "markdown",
   "metadata": {
    "deletable": false,
    "editable": false,
    "nbgrader": {
     "grade": false,
     "grade_id": "q1b",
     "locked": true,
     "schema_version": 2,
     "solution": false
    }
   },
   "source": [
    "### Question 1b\n",
    "\n",
    "In the cell below, set `answer1b` equal to a list of strings corresponding to the possible values for `OFFENSE` when `CVLEGEND` is \"LARCENY\". You can type the answer manually, or you can create an expression that automatically extracts the names.\n",
    "\n",
    "<!--\n",
    "BEGIN QUESTION\n",
    "name: q1b\n",
    "-->"
   ]
  },
  {
   "cell_type": "code",
   "execution_count": 40,
   "metadata": {},
   "outputs": [
    {
     "data": {
      "text/plain": [
       "['THEFT FELONY (OVER $950)', 'THEFT FROM PERSON', 'THEFT MISD. (UNDER $950)']"
      ]
     },
     "execution_count": 40,
     "metadata": {},
     "output_type": "execute_result"
    }
   ],
   "source": [
    "answer1b = calls_by_cvlegend_and_offense[\"LARCENY\"].index.tolist()\n",
    "answer1b"
   ]
  },
  {
   "cell_type": "code",
   "execution_count": 41,
   "metadata": {
    "deletable": false,
    "editable": false
   },
   "outputs": [
    {
     "data": {
      "text/html": [
       "<p><strong><pre style='display: inline;'>q1b</pre></strong> passed!</p>"
      ],
      "text/plain": [
       "q1b results: All test cases passed!"
      ]
     },
     "execution_count": 41,
     "metadata": {},
     "output_type": "execute_result"
    }
   ],
   "source": [
    "grader.check(\"q1b\")"
   ]
  },
  {
   "cell_type": "markdown",
   "metadata": {
    "deletable": false,
    "editable": false,
    "nbgrader": {
     "grade": false,
     "grade_id": "q2",
     "locked": true,
     "schema_version": 2,
     "solution": false
    }
   },
   "source": [
    "## Question 2\n",
    "\n",
    "What are the five crime types of CVLEGEND that have the most crime events? You may need to use `value_counts` to find the answer.\n",
    "Save your results into `answer2` as a list of strings.\n",
    "\n",
    "**Hint:** *The `keys` method of the Series class might be useful.*\n",
    "\n",
    "<!--\n",
    "BEGIN QUESTION\n",
    "name: q2\n",
    "-->"
   ]
  },
  {
   "cell_type": "code",
   "execution_count": 57,
   "metadata": {
    "tags": []
   },
   "outputs": [
    {
     "data": {
      "text/plain": [
       "['LARCENY', 'BURGLARY - VEHICLE', 'DISORDERLY CONDUCT', 'ASSAULT', 'VANDALISM']"
      ]
     },
     "execution_count": 57,
     "metadata": {},
     "output_type": "execute_result"
    }
   ],
   "source": [
    "answer2 = calls['CVLEGEND'].value_counts().head(5).keys().tolist()\n",
    "answer2"
   ]
  },
  {
   "cell_type": "code",
   "execution_count": 58,
   "metadata": {
    "deletable": false,
    "editable": false
   },
   "outputs": [
    {
     "ename": "SyntaxError",
     "evalue": "invalid syntax (<ipython-input-58-733e25b75555>, line 1)",
     "output_type": "error",
     "traceback": [
      "\u001b[0;36m  File \u001b[0;32m\"<ipython-input-58-733e25b75555>\"\u001b[0;36m, line \u001b[0;32m1\u001b[0m\n\u001b[0;31m    grader.check(\"q2\")head\u001b[0m\n\u001b[0m                         ^\u001b[0m\n\u001b[0;31mSyntaxError\u001b[0m\u001b[0;31m:\u001b[0m invalid syntax\n"
     ]
    }
   ],
   "source": [
    "grader.check(\"q2\")head"
   ]
  },
  {
   "cell_type": "code",
   "execution_count": 59,
   "metadata": {},
   "outputs": [
    {
     "data": {
      "text/html": [
       "<p><strong><pre style='display: inline;'>q2</pre></strong> passed!</p>"
      ],
      "text/plain": [
       "q2 results: All test cases passed!"
      ]
     },
     "execution_count": 59,
     "metadata": {},
     "output_type": "execute_result"
    }
   ],
   "source": [
    "grader.check(\"q2\")"
   ]
  },
  {
   "cell_type": "markdown",
   "metadata": {
    "nbgrader": {
     "grade": false,
     "grade_id": "setup",
     "locked": true,
     "schema_version": 2,
     "solution": false
    }
   },
   "source": [
    "--- \n",
    "\n",
    "## Part 2: Visualization\n"
   ]
  },
  {
   "cell_type": "markdown",
   "metadata": {
    "nbgrader": {
     "grade": false,
     "grade_id": "part2",
     "locked": true,
     "schema_version": 2,
     "solution": false
    }
   },
   "source": [
    "## Pandas Examples\n",
    "\n",
    "Pandas offers basic functionality for plotting. For example, the `DataFrame` and `Series` classes both have a `plot` method. \n",
    "\n",
    "As you learn to do data visualization, you may find the [pandas documentation](https://pandas.pydata.org/pandas-docs/stable/generated/pandas.DataFrame.plot.html)  helpful!"
   ]
  },
  {
   "cell_type": "markdown",
   "metadata": {
    "nbgrader": {
     "grade": false,
     "grade_id": "plot-demo",
     "locked": true,
     "schema_version": 2,
     "solution": false
    }
   },
   "source": [
    "As an example of the built-in plotting functionality of pandas, the following example uses `plot` method of the `Series` class to generate a `barh` plot type to visually display the value counts for `CVLEGEND`.\n",
    "\n",
    "There are also many other plots that we will explore throughout the lab."
   ]
  },
  {
   "cell_type": "code",
   "execution_count": 60,
   "metadata": {
    "nbgrader": {
     "grade": false,
     "grade_id": "plot-demo1",
     "locked": true,
     "schema_version": 2,
     "solution": false
    }
   },
   "outputs": [
    {
     "data": {
      "image/png": "[encoded data removed]",
      "text/plain": [
       "<Figure size 864x648 with 1 Axes>"
      ]
     },
     "metadata": {
      "needs_background": "light"
     },
     "output_type": "display_data"
    }
   ],
   "source": [
    "ax = calls['CVLEGEND'].value_counts().plot(kind='barh')\n",
    "ax.set_ylabel(\"Crime Category\")\n",
    "ax.set_xlabel(\"Number of Calls\")\n",
    "ax.set_title(\"Number of Calls By Crime Type\");"
   ]
  },
  {
   "cell_type": "markdown",
   "metadata": {
    "nbgrader": {
     "grade": false,
     "grade_id": "plot-demo6",
     "locked": true,
     "schema_version": 2,
     "solution": false
    }
   },
   "source": [
    "\n",
    "\n",
    "## An Additional Note on Plotting in Jupyter Notebooks\n",
    "\n",
    "You may have noticed that many of our code cells involving plotting end with a semicolon (;). This prevents any extra output from the last line of the cell that we may not want to see. Try adding this to your own code in the following questions!"
   ]
  },
  {
   "cell_type": "markdown",
   "metadata": {
    "deletable": false,
    "editable": false,
    "nbgrader": {
     "grade": false,
     "grade_id": "q3",
     "locked": true,
     "schema_version": 2,
     "solution": false
    }
   },
   "source": [
    "### Question 3\n",
    "\n",
    "Now it is your turn to make some plots using `pandas`  Let's start by transforming the data so that it is easier to work with We then will look at some distributions of the data. \n",
    "\n",
    "The CVDOW field isn't named helpfully and it is hard to see the meaning from the data alone. According to the website linked at the top of this notebook, CVDOW is actually indicating the day that events happened. 0->Sunday, 1->Monday ... 6->Saturday. \n",
    "\n",
    "#### Question 3a\n",
    "\n",
    "Add a new column `Day` into the `calls` dataframe that has the string weekday (eg. 'Sunday') for the corresponding value in CVDOW. For example, if the first 3 values of `CVDOW` are `[3, 6, 0]`, then the first 3 values of the `Day` column should be `[\"Wednesday\", \"Saturday\", \"Sunday\"]`.\n",
    "\n",
    "**Hint:** *Try using the [Series.map](https://pandas.pydata.org/pandas-docs/stable/generated/pandas.Series.map.html) function on `calls[\"CVDOW\"]`.  Can you assign this to the new column `calls[\"Day\"]`?*\n",
    "\n",
    "<!--\n",
    "BEGIN QUESTION\n",
    "name: q3a\n",
    "-->"
   ]
  },
  {
   "cell_type": "code",
   "execution_count": 66,
   "metadata": {
    "nbgrader": {
     "grade": false,
     "grade_id": "q3a-answer",
     "locked": false,
     "schema_version": 2,
     "solution": true
    }
   },
   "outputs": [
    {
     "data": {
      "text/html": [
       "<div>\n",
       "<style scoped>\n",
       "    .dataframe tbody tr th:only-of-type {\n",
       "        vertical-align: middle;\n",
       "    }\n",
       "\n",
       "    .dataframe tbody tr th {\n",
       "        vertical-align: top;\n",
       "    }\n",
       "\n",
       "    .dataframe thead th {\n",
       "        text-align: right;\n",
       "    }\n",
       "</style>\n",
       "<table border=\"1\" class=\"dataframe\">\n",
       "  <thead>\n",
       "    <tr style=\"text-align: right;\">\n",
       "      <th></th>\n",
       "      <th>CASENO</th>\n",
       "      <th>OFFENSE</th>\n",
       "      <th>EVENTDT</th>\n",
       "      <th>EVENTTM</th>\n",
       "      <th>CVLEGEND</th>\n",
       "      <th>CVDOW</th>\n",
       "      <th>InDbDate</th>\n",
       "      <th>Block_Location</th>\n",
       "      <th>BLKADDR</th>\n",
       "      <th>City</th>\n",
       "      <th>State</th>\n",
       "      <th>Day</th>\n",
       "    </tr>\n",
       "  </thead>\n",
       "  <tbody>\n",
       "    <tr>\n",
       "      <th>0</th>\n",
       "      <td>18022300</td>\n",
       "      <td>DISTURBANCE</td>\n",
       "      <td>04/18/2018 12:00:00 AM</td>\n",
       "      <td>22:17</td>\n",
       "      <td>DISORDERLY CONDUCT</td>\n",
       "      <td>3</td>\n",
       "      <td>09/06/2018 03:30:12 AM</td>\n",
       "      <td>OREGON STREET &amp;amp; MCGEE AVE\\nBerkeley, CA\\n(...</td>\n",
       "      <td>OREGON STREET &amp; MCGEE AVE</td>\n",
       "      <td>Berkeley</td>\n",
       "      <td>CA</td>\n",
       "      <td>Wednesday</td>\n",
       "    </tr>\n",
       "    <tr>\n",
       "      <th>1</th>\n",
       "      <td>18026683</td>\n",
       "      <td>THEFT MISD. (UNDER $950)</td>\n",
       "      <td>05/09/2018 12:00:00 AM</td>\n",
       "      <td>21:25</td>\n",
       "      <td>LARCENY</td>\n",
       "      <td>3</td>\n",
       "      <td>09/06/2018 03:30:13 AM</td>\n",
       "      <td>200 UNIVERSITY AVE\\nBerkeley, CA\\n(37.865511, ...</td>\n",
       "      <td>200 UNIVERSITY AVE</td>\n",
       "      <td>Berkeley</td>\n",
       "      <td>CA</td>\n",
       "      <td>Wednesday</td>\n",
       "    </tr>\n",
       "    <tr>\n",
       "      <th>2</th>\n",
       "      <td>18038550</td>\n",
       "      <td>THEFT MISD. (UNDER $950)</td>\n",
       "      <td>05/18/2018 12:00:00 AM</td>\n",
       "      <td>20:00</td>\n",
       "      <td>LARCENY</td>\n",
       "      <td>5</td>\n",
       "      <td>09/06/2018 03:30:09 AM</td>\n",
       "      <td>2200 MILVIA ST\\nBerkeley, CA\\n(37.868574, -122...</td>\n",
       "      <td>2200 MILVIA ST</td>\n",
       "      <td>Berkeley</td>\n",
       "      <td>CA</td>\n",
       "      <td>Friday</td>\n",
       "    </tr>\n",
       "    <tr>\n",
       "      <th>3</th>\n",
       "      <td>18014810</td>\n",
       "      <td>BURGLARY AUTO</td>\n",
       "      <td>03/13/2018 12:00:00 AM</td>\n",
       "      <td>08:50</td>\n",
       "      <td>BURGLARY - VEHICLE</td>\n",
       "      <td>2</td>\n",
       "      <td>09/06/2018 03:30:08 AM</td>\n",
       "      <td>1200 SIXTH ST\\nBerkeley, CA\\n(37.881142, -122....</td>\n",
       "      <td>1200 SIXTH ST</td>\n",
       "      <td>Berkeley</td>\n",
       "      <td>CA</td>\n",
       "      <td>Tuesday</td>\n",
       "    </tr>\n",
       "    <tr>\n",
       "      <th>4</th>\n",
       "      <td>18018643</td>\n",
       "      <td>ALCOHOL OFFENSE</td>\n",
       "      <td>03/31/2018 12:00:00 AM</td>\n",
       "      <td>13:29</td>\n",
       "      <td>LIQUOR LAW VIOLATION</td>\n",
       "      <td>6</td>\n",
       "      <td>09/06/2018 03:30:11 AM</td>\n",
       "      <td>CENTER STREET &amp;amp; SHATTUCK AVE\\nBerkeley, CA...</td>\n",
       "      <td>CENTER STREET &amp; SHATTUCK AVE</td>\n",
       "      <td>Berkeley</td>\n",
       "      <td>CA</td>\n",
       "      <td>Saturday</td>\n",
       "    </tr>\n",
       "    <tr>\n",
       "      <th>...</th>\n",
       "      <td>...</td>\n",
       "      <td>...</td>\n",
       "      <td>...</td>\n",
       "      <td>...</td>\n",
       "      <td>...</td>\n",
       "      <td>...</td>\n",
       "      <td>...</td>\n",
       "      <td>...</td>\n",
       "      <td>...</td>\n",
       "      <td>...</td>\n",
       "      <td>...</td>\n",
       "      <td>...</td>\n",
       "    </tr>\n",
       "    <tr>\n",
       "      <th>3783</th>\n",
       "      <td>18045829</td>\n",
       "      <td>THEFT MISD. (UNDER $950)</td>\n",
       "      <td>08/15/2018 12:00:00 AM</td>\n",
       "      <td>08:42</td>\n",
       "      <td>LARCENY</td>\n",
       "      <td>3</td>\n",
       "      <td>09/06/2018 03:30:10 AM</td>\n",
       "      <td>2300 TELEGRAPH AVE\\nBerkeley, CA\\n(37.868714, ...</td>\n",
       "      <td>2300 TELEGRAPH AVE</td>\n",
       "      <td>Berkeley</td>\n",
       "      <td>CA</td>\n",
       "      <td>Wednesday</td>\n",
       "    </tr>\n",
       "    <tr>\n",
       "      <th>3784</th>\n",
       "      <td>18040137</td>\n",
       "      <td>DISTURBANCE</td>\n",
       "      <td>07/17/2018 12:00:00 AM</td>\n",
       "      <td>10:34</td>\n",
       "      <td>DISORDERLY CONDUCT</td>\n",
       "      <td>2</td>\n",
       "      <td>09/06/2018 03:30:13 AM</td>\n",
       "      <td>1100 UNIVERSITY AVE\\nBerkeley, CA\\n(37.869067,...</td>\n",
       "      <td>1100 UNIVERSITY AVE</td>\n",
       "      <td>Berkeley</td>\n",
       "      <td>CA</td>\n",
       "      <td>Tuesday</td>\n",
       "    </tr>\n",
       "    <tr>\n",
       "      <th>3785</th>\n",
       "      <td>18090816</td>\n",
       "      <td>VANDALISM</td>\n",
       "      <td>05/16/2018 12:00:00 AM</td>\n",
       "      <td>20:00</td>\n",
       "      <td>VANDALISM</td>\n",
       "      <td>3</td>\n",
       "      <td>09/06/2018 03:30:13 AM</td>\n",
       "      <td>800 VICENTE RD\\nBerkeley, CA\\n</td>\n",
       "      <td>800 VICENTE RD</td>\n",
       "      <td>Berkeley</td>\n",
       "      <td>CA</td>\n",
       "      <td>Wednesday</td>\n",
       "    </tr>\n",
       "    <tr>\n",
       "      <th>3786</th>\n",
       "      <td>18024397</td>\n",
       "      <td>SEXUAL ASSAULT FEL.</td>\n",
       "      <td>04/28/2018 12:00:00 AM</td>\n",
       "      <td>17:00</td>\n",
       "      <td>SEX CRIME</td>\n",
       "      <td>6</td>\n",
       "      <td>09/06/2018 03:30:12 AM</td>\n",
       "      <td>2700 BANCROFT WAY\\nBerkeley, CA\\n(37.869312, -...</td>\n",
       "      <td>2700 BANCROFT WAY</td>\n",
       "      <td>Berkeley</td>\n",
       "      <td>CA</td>\n",
       "      <td>Saturday</td>\n",
       "    </tr>\n",
       "    <tr>\n",
       "      <th>3787</th>\n",
       "      <td>18021099</td>\n",
       "      <td>ASSAULT/BATTERY FEL.</td>\n",
       "      <td>04/12/2018 12:00:00 AM</td>\n",
       "      <td>21:39</td>\n",
       "      <td>ASSAULT</td>\n",
       "      <td>4</td>\n",
       "      <td>09/06/2018 03:30:12 AM</td>\n",
       "      <td>1600 RUSSELL ST\\nBerkeley, CA\\n(37.85525, -122...</td>\n",
       "      <td>1600 RUSSELL ST</td>\n",
       "      <td>Berkeley</td>\n",
       "      <td>CA</td>\n",
       "      <td>Thursday</td>\n",
       "    </tr>\n",
       "  </tbody>\n",
       "</table>\n",
       "<p>3788 rows × 12 columns</p>\n",
       "</div>"
      ],
      "text/plain": [
       "        CASENO                   OFFENSE                 EVENTDT EVENTTM  \\\n",
       "0     18022300               DISTURBANCE  04/18/2018 12:00:00 AM   22:17   \n",
       "1     18026683  THEFT MISD. (UNDER $950)  05/09/2018 12:00:00 AM   21:25   \n",
       "2     18038550  THEFT MISD. (UNDER $950)  05/18/2018 12:00:00 AM   20:00   \n",
       "3     18014810             BURGLARY AUTO  03/13/2018 12:00:00 AM   08:50   \n",
       "4     18018643           ALCOHOL OFFENSE  03/31/2018 12:00:00 AM   13:29   \n",
       "...        ...                       ...                     ...     ...   \n",
       "3783  18045829  THEFT MISD. (UNDER $950)  08/15/2018 12:00:00 AM   08:42   \n",
       "3784  18040137               DISTURBANCE  07/17/2018 12:00:00 AM   10:34   \n",
       "3785  18090816                 VANDALISM  05/16/2018 12:00:00 AM   20:00   \n",
       "3786  18024397       SEXUAL ASSAULT FEL.  04/28/2018 12:00:00 AM   17:00   \n",
       "3787  18021099      ASSAULT/BATTERY FEL.  04/12/2018 12:00:00 AM   21:39   \n",
       "\n",
       "                  CVLEGEND  CVDOW                InDbDate  \\\n",
       "0       DISORDERLY CONDUCT      3  09/06/2018 03:30:12 AM   \n",
       "1                  LARCENY      3  09/06/2018 03:30:13 AM   \n",
       "2                  LARCENY      5  09/06/2018 03:30:09 AM   \n",
       "3       BURGLARY - VEHICLE      2  09/06/2018 03:30:08 AM   \n",
       "4     LIQUOR LAW VIOLATION      6  09/06/2018 03:30:11 AM   \n",
       "...                    ...    ...                     ...   \n",
       "3783               LARCENY      3  09/06/2018 03:30:10 AM   \n",
       "3784    DISORDERLY CONDUCT      2  09/06/2018 03:30:13 AM   \n",
       "3785             VANDALISM      3  09/06/2018 03:30:13 AM   \n",
       "3786             SEX CRIME      6  09/06/2018 03:30:12 AM   \n",
       "3787               ASSAULT      4  09/06/2018 03:30:12 AM   \n",
       "\n",
       "                                         Block_Location  \\\n",
       "0     OREGON STREET &amp; MCGEE AVE\\nBerkeley, CA\\n(...   \n",
       "1     200 UNIVERSITY AVE\\nBerkeley, CA\\n(37.865511, ...   \n",
       "2     2200 MILVIA ST\\nBerkeley, CA\\n(37.868574, -122...   \n",
       "3     1200 SIXTH ST\\nBerkeley, CA\\n(37.881142, -122....   \n",
       "4     CENTER STREET &amp; SHATTUCK AVE\\nBerkeley, CA...   \n",
       "...                                                 ...   \n",
       "3783  2300 TELEGRAPH AVE\\nBerkeley, CA\\n(37.868714, ...   \n",
       "3784  1100 UNIVERSITY AVE\\nBerkeley, CA\\n(37.869067,...   \n",
       "3785                     800 VICENTE RD\\nBerkeley, CA\\n   \n",
       "3786  2700 BANCROFT WAY\\nBerkeley, CA\\n(37.869312, -...   \n",
       "3787  1600 RUSSELL ST\\nBerkeley, CA\\n(37.85525, -122...   \n",
       "\n",
       "                           BLKADDR      City State        Day  \n",
       "0        OREGON STREET & MCGEE AVE  Berkeley    CA  Wednesday  \n",
       "1               200 UNIVERSITY AVE  Berkeley    CA  Wednesday  \n",
       "2                   2200 MILVIA ST  Berkeley    CA     Friday  \n",
       "3                    1200 SIXTH ST  Berkeley    CA    Tuesday  \n",
       "4     CENTER STREET & SHATTUCK AVE  Berkeley    CA   Saturday  \n",
       "...                            ...       ...   ...        ...  \n",
       "3783            2300 TELEGRAPH AVE  Berkeley    CA  Wednesday  \n",
       "3784           1100 UNIVERSITY AVE  Berkeley    CA    Tuesday  \n",
       "3785                800 VICENTE RD  Berkeley    CA  Wednesday  \n",
       "3786             2700 BANCROFT WAY  Berkeley    CA   Saturday  \n",
       "3787               1600 RUSSELL ST  Berkeley    CA   Thursday  \n",
       "\n",
       "[3788 rows x 12 columns]"
      ]
     },
     "execution_count": 66,
     "metadata": {},
     "output_type": "execute_result"
    }
   ],
   "source": [
    "days = [\"Sunday\", \"Monday\", \"Tuesday\", \"Wednesday\", \"Thursday\", \"Friday\", \"Saturday\"]\n",
    "day_indices = range(7)\n",
    "indices_to_days_dict = dict(zip(day_indices, days)) # Should look like {0:\"Sunday\", 1:\"Monday\", ..., 6:\"Saturday\"}\n",
    "calls['Day'] = calls['CVDOW'].map(indices_to_days_dict)\n",
    "calls"
   ]
  },
  {
   "cell_type": "code",
   "execution_count": 67,
   "metadata": {
    "deletable": false,
    "editable": false
   },
   "outputs": [
    {
     "data": {
      "text/html": [
       "<p><strong><pre style='display: inline;'>q3a</pre></strong> passed!</p>"
      ],
      "text/plain": [
       "q3a results: All test cases passed!"
      ]
     },
     "execution_count": 67,
     "metadata": {},
     "output_type": "execute_result"
    }
   ],
   "source": [
    "grader.check(\"q3a\")"
   ]
  },
  {
   "cell_type": "markdown",
   "metadata": {
    "deletable": false,
    "editable": false
   },
   "source": [
    "#### Question 3b\n",
    "\n",
    "Now let's look at the EVENTTM column which indicates the time for events. Since it contains hour and minute information, let's extract the hour info and create a new column named `Hour` in the `calls` dataframe. You should save the hour as an `int`.\n",
    "\n",
    "\n",
    "**Hint:** *Your code should only require one line*\n",
    "\n",
    "<!--\n",
    "BEGIN QUESTION\n",
    "name: q3b\n",
    "-->"
   ]
  },
  {
   "cell_type": "code",
   "execution_count": 81,
   "metadata": {},
   "outputs": [
    {
     "data": {
      "text/plain": [
       "0       22\n",
       "1       21\n",
       "2       20\n",
       "3        8\n",
       "4       13\n",
       "        ..\n",
       "3783     8\n",
       "3784    10\n",
       "3785    20\n",
       "3786    17\n",
       "3787    21\n",
       "Name: Hour, Length: 3788, dtype: int64"
      ]
     },
     "execution_count": 81,
     "metadata": {},
     "output_type": "execute_result"
    }
   ],
   "source": [
    "calls['Hour'] = calls['EVENTTM'].str[0:2].astype('int64')\n",
    "calls['Hour']"
   ]
  },
  {
   "cell_type": "code",
   "execution_count": 82,
   "metadata": {
    "deletable": false,
    "editable": false
   },
   "outputs": [
    {
     "data": {
      "text/html": [
       "<p><strong><pre style='display: inline;'>q3b</pre></strong> passed!</p>"
      ],
      "text/plain": [
       "q3b results: All test cases passed!"
      ]
     },
     "execution_count": 82,
     "metadata": {},
     "output_type": "execute_result"
    }
   ],
   "source": [
    "grader.check(\"q3b\")"
   ]
  },
  {
   "cell_type": "markdown",
   "metadata": {
    "deletable": false,
    "editable": false,
    "nbgrader": {
     "grade": false,
     "grade_id": "q3b-instructions",
     "locked": true,
     "schema_version": 2,
     "solution": false
    }
   },
   "source": [
    "#### Question 3c\n",
    "\n",
    "Using `pandas`, Construct a vertical bar plot with the count of the number of calls (entries in the table) for each day of the week **ordered by the day of the week** (eg. `Sunday`, `Monday`, ...). Be sure that your axes are labeled and that your plot is titled.  There should be approximately 500 calls per day.\n",
    "\n",
    "**Hint:** *Given a series `s`, and an array `coolIndex` that has the same entries as in `s.index`, `s[coolIndex]` will return a copy of the series in the same order as `coolIndex`.*\n",
    "\n",
    "<!--\n",
    "BEGIN QUESTION\n",
    "name: q3c\n",
    "-->"
   ]
  },
  {
   "cell_type": "code",
   "execution_count": 90,
   "metadata": {
    "nbgrader": {
     "grade": false,
     "grade_id": "q3b-answer",
     "locked": false,
     "schema_version": 2,
     "solution": true
    }
   },
   "outputs": [
    {
     "data": {
      "image/png": "[encoded data removed]",
      "text/plain": [
       "<Figure size 864x648 with 1 Axes>"
      ]
     },
     "metadata": {
      "needs_background": "light"
     },
     "output_type": "display_data"
    }
   ],
   "source": [
    "ax_3c = calls['Day'].value_counts()[days].plot(kind='bar')\n",
    "ax_3c.set_title(\"Number of Call for Each Day of the Week\")\n",
    "ax_3c.set_ylabel(\"Number of Call\")\n",
    "\n",
    "# Leave this for grading purposes\n",
    "ax_3c = plt.gca()"
   ]
  },
  {
   "cell_type": "code",
   "execution_count": 91,
   "metadata": {
    "deletable": false,
    "editable": false
   },
   "outputs": [
    {
     "data": {
      "text/html": [
       "<p><strong><pre style='display: inline;'>q3c</pre></strong> passed!</p>"
      ],
      "text/plain": [
       "q3c results: All test cases passed!"
      ]
     },
     "execution_count": 91,
     "metadata": {},
     "output_type": "execute_result"
    }
   ],
   "source": [
    "grader.check(\"q3c\")"
   ]
  },
  {
   "cell_type": "markdown",
   "metadata": {
    "deletable": false,
    "editable": false
   },
   "source": [
    "#### Question 3d\n",
    "\n",
    "\n",
    "Using `pandas`, construct a line plot with the count of the number of calls (entries in the table) for each hour of the day  **ordered by the time** (eg. `12:00 AM`, `1:00 AM`, ...). Please use the provided variable `hours` in your answer. Be sure that your axes are labeled and that your plot is titled. \n",
    "\n",
    "<!--\n",
    "BEGIN QUESTION\n",
    "name: q3d\n",
    "\n",
    "-->"
   ]
  },
  {
   "cell_type": "code",
   "execution_count": 97,
   "metadata": {},
   "outputs": [
    {
     "data": {
      "image/png": "[encoded data removed]",
      "text/plain": [
       "<Figure size 864x648 with 1 Axes>"
      ]
     },
     "metadata": {
      "needs_background": "light"
     },
     "output_type": "display_data"
    }
   ],
   "source": [
    "hours = list(range(24))\n",
    "ax_3d = calls['Hour'].value_counts()[hours].plot()\n",
    "ax_3d.set_title(\"Number of the Calls for Each Hour of the Day\")\n",
    "ax_3d.set_ylabel(\"Number of Call\")\n",
    "ax_3d.set_xlabel(\"Hours\")\n",
    "\n",
    "# Leave this for grading purposes\n",
    "ax_3d = plt.gca()"
   ]
  },
  {
   "cell_type": "code",
   "execution_count": 98,
   "metadata": {
    "deletable": false,
    "editable": false
   },
   "outputs": [
    {
     "data": {
      "text/html": [
       "<p><strong><pre style='display: inline;'>q3d</pre></strong> passed!</p>"
      ],
      "text/plain": [
       "q3d results: All test cases passed!"
      ]
     },
     "execution_count": 98,
     "metadata": {},
     "output_type": "execute_result"
    }
   ],
   "source": [
    "grader.check(\"q3d\")"
   ]
  },
  {
   "cell_type": "markdown",
   "metadata": {},
   "source": [
    "##### Why do you think this happens? Are there more calls in the day or night? What is the least popular time? Most? (Answer Below)"
   ]
  },
  {
   "cell_type": "markdown",
   "metadata": {},
   "source": []
  },
  {
   "cell_type": "markdown",
   "metadata": {
    "deletable": false,
    "editable": false,
    "nbgrader": {
     "grade": false,
     "grade_id": "q4",
     "locked": true,
     "schema_version": 2,
     "solution": false
    }
   },
   "source": [
    "### Question 4\n",
    "\n",
    "It seems weekdays generally have slightly more calls than Saturday or Sunday, but the difference does not look significant.  \n",
    "\n",
    "We can break down into some particular types of events to see their distribution. For example, let's make a bar plot for the CVLEGEND \"ROBBERY\". Which day is the peak for \"ROBBERY\"?\n",
    "\n",
    "#### Question 4a\n",
    "\n",
    "Use `pandas` to create a vertical bar plot of the number of total robberies reported on each day of the week, again ordered by the days of the week starting with Sunday. Please use the provided variable `filtered` in your answer.\n",
    "\n",
    "**Hint:** *This should be very similar to Question 3b*\n",
    "\n",
    "<!--\n",
    "BEGIN QUESTION\n",
    "name: q4a\n",
    "-->"
   ]
  },
  {
   "cell_type": "code",
   "execution_count": 109,
   "metadata": {
    "nbgrader": {
     "grade": false,
     "grade_id": "q4a-answer",
     "locked": false,
     "schema_version": 2,
     "solution": true
    }
   },
   "outputs": [
    {
     "data": {
      "image/png": "[encoded data removed]",
      "text/plain": [
       "<Figure size 864x648 with 1 Axes>"
      ]
     },
     "metadata": {
      "needs_background": "light"
     },
     "output_type": "display_data"
    }
   ],
   "source": [
    "filtered = calls[calls[\"CVLEGEND\"] == \"ROBBERY\"]\n",
    "ax_4a = filtered['Day'].value_counts()[days].plot(kind = 'bar')\n",
    "ax_4a.set_title(\"Number of Total Robberies Reported on Each Day of the Week\")\n",
    "ax_4a.set_ylabel(\"Number of Total Robberies\")\n",
    "# Leave this for grading purposes\n",
    "ax_4a = plt.gca()"
   ]
  },
  {
   "cell_type": "code",
   "execution_count": 110,
   "metadata": {
    "deletable": false,
    "editable": false
   },
   "outputs": [
    {
     "data": {
      "text/html": [
       "<p><strong><pre style='display: inline;'>q4a</pre></strong> passed!</p>"
      ],
      "text/plain": [
       "q4a results: All test cases passed!"
      ]
     },
     "execution_count": 110,
     "metadata": {},
     "output_type": "execute_result"
    }
   ],
   "source": [
    "grader.check(\"q4a\")"
   ]
  },
  {
   "cell_type": "markdown",
   "metadata": {
    "nbgrader": {
     "grade": false,
     "grade_id": "q4b",
     "locked": true,
     "schema_version": 2,
     "solution": false
    }
   },
   "source": [
    "#### Question 4b\n",
    "\n",
    "Do you observe anything interesting about the distribution of ROBBERY calls over a week? Type a 1-sentence answer in the cell below."
   ]
  },
  {
   "cell_type": "markdown",
   "metadata": {
    "nbgrader": {
     "grade": true,
     "grade_id": "q4b-answer",
     "locked": false,
     "points": 1,
     "schema_version": 2,
     "solution": true
    }
   },
   "source": []
  },
  {
   "cell_type": "markdown",
   "metadata": {
    "deletable": false,
    "editable": false,
    "nbgrader": {
     "grade": false,
     "grade_id": "q7",
     "locked": true,
     "schema_version": 2,
     "solution": false
    }
   },
   "source": [
    "### Question 5\n",
    "\n",
    "In the cell below, generate a boxplot which examines the hour of day of each crime broken down by the `CVLEGEND` value.  To construct this plot use the [DataFrame.boxplot](https://pandas.pydata.org/pandas-docs/stable/generated/pandas.DataFrame.boxplot.html) documentation.\n",
    "\n",
    "##### Looking at your plot, which crime type appears to have the largest interquartile range? Put your results into `answer5` as a string.\n",
    "\n",
    "\n",
    "<!--\n",
    "BEGIN QUESTION\n",
    "name: q5\n",
    "-->"
   ]
  },
  {
   "cell_type": "code",
   "execution_count": 114,
   "metadata": {
    "nbgrader": {
     "grade": false,
     "grade_id": "q7-pandas-boxplot",
     "locked": true,
     "schema_version": 2,
     "solution": false
    },
    "tags": [
     "student"
    ]
   },
   "outputs": [
    {
     "data": {
      "image/png": "[encoded data removed]",
      "text/plain": [
       "<Figure size 864x648 with 1 Axes>"
      ]
     },
     "metadata": {
      "needs_background": "light"
     },
     "output_type": "display_data"
    }
   ],
   "source": [
    "answer5 = \"SEX CRIME\"\n",
    "calls.boxplot(column = \"Hour\", by= \"CVLEGEND\", rot=90);"
   ]
  },
  {
   "cell_type": "code",
   "execution_count": 115,
   "metadata": {
    "deletable": false,
    "editable": false
   },
   "outputs": [
    {
     "data": {
      "text/html": [
       "<p><strong><pre style='display: inline;'>q5</pre></strong> passed!</p>"
      ],
      "text/plain": [
       "q5 results: All test cases passed!"
      ]
     },
     "execution_count": 115,
     "metadata": {},
     "output_type": "execute_result"
    }
   ],
   "source": [
    "grader.check(\"q5\")"
   ]
  },
  {
   "cell_type": "markdown",
   "metadata": {},
   "source": [
    "**Important**: To make sure the test cases run correctly, click `Kernel>Restart & Run All` and make sure all of the test cases are still passing. Doing so will submit your code for you. \n",
    "\n",
    "If your test cases are no longer passing after restarting, it's likely because you're missing a variable, or that modifications that you'd previously made to your Data Frame are no longer taking place (perhaps because you deleted a cell). \n",
    "\n",
    "You may submit this assignment as many times as you'd like before the deadline.\n",
    "\n",
    "**You must restart and run all cells before submitting. Otherwise, you may pass test cases locally, but not on our servers. We will not entertain regrade requests of the form, “my code passed all of my local test cases, but failed the autograder”.**"
   ]
  },
  {
   "cell_type": "markdown",
   "metadata": {
    "nbgrader": {
     "grade": false,
     "grade_id": "finish",
     "locked": true,
     "schema_version": 2,
     "solution": false
    }
   },
   "source": [
    "## Congratulations\n",
    "\n",
    "Congrats! You are finished with this assignment."
   ]
  },
  {
   "cell_type": "markdown",
   "metadata": {
    "deletable": false,
    "editable": false
   },
   "source": [
    "---\n",
    "\n",
    "To double-check your work, the cell below will rerun all of the autograder tests."
   ]
  },
  {
   "cell_type": "code",
   "execution_count": 116,
   "metadata": {
    "deletable": false,
    "editable": false
   },
   "outputs": [
    {
     "data": {
      "text/html": [
       "<p><strong><pre style='display: inline;'>q1a</pre></strong> passed!</p>\n",
       "\n",
       "<p><strong><pre style='display: inline;'>q1b</pre></strong> passed!</p>\n",
       "\n",
       "<p><strong><pre style='display: inline;'>q2</pre></strong> passed!</p>\n",
       "\n",
       "<p><strong><pre style='display: inline;'>q3a</pre></strong> passed!</p>\n",
       "\n",
       "<p><strong><pre style='display: inline;'>q3b</pre></strong> passed!</p>\n",
       "\n",
       "<p><strong><pre style='display: inline;'>q3c</pre></strong> passed!</p>\n",
       "\n",
       "<p><strong><pre style='display: inline;'>q3d</pre></strong> passed!</p>\n",
       "\n",
       "<p><strong><pre style='display: inline;'>q4a</pre></strong> passed!</p>\n",
       "\n",
       "<p><strong><pre style='display: inline;'>q5</pre></strong> passed!</p>\n",
       "\n"
      ],
      "text/plain": [
       "q1a results: All test cases passed!\n",
       "\n",
       "q1b results: All test cases passed!\n",
       "\n",
       "q2 results: All test cases passed!\n",
       "\n",
       "q3a results: All test cases passed!\n",
       "\n",
       "q3b results: All test cases passed!\n",
       "\n",
       "q3c results: All test cases passed!\n",
       "\n",
       "q3d results: All test cases passed!\n",
       "\n",
       "q4a results: All test cases passed!\n",
       "\n",
       "q5 results: All test cases passed!\n"
      ]
     },
     "execution_count": 116,
     "metadata": {},
     "output_type": "execute_result"
    }
   ],
   "source": [
    "grader.check_all()"
   ]
  },
  {
   "cell_type": "markdown",
   "metadata": {
    "deletable": false,
    "editable": false
   },
   "source": [
    "## Submission\n",
    "\n",
    "Make sure you have run all cells in your notebook in order before     running the cell below, so that all images/graphs appear in the output. The cell below will generate     a zipfile for you to submit. **Please save before exporting!**"
   ]
  },
  {
   "cell_type": "code",
   "execution_count": null,
   "metadata": {
    "deletable": false,
    "editable": false
   },
   "outputs": [],
   "source": [
    "# Save your notebook first, then run this cell to export your submission.\n",
    "grader.export(pdf=False)"
   ]
  },
  {
   "cell_type": "markdown",
   "metadata": {},
   "source": [
    " "
   ]
  }
 ],
 "metadata": {
  "celltoolbar": "Create Assignment",
  "kernelspec": {
   "display_name": "Python 3",
   "language": "python",
   "name": "python3"
  },
  "language_info": {
   "codemirror_mode": {
    "name": "ipython",
    "version": 3
   },
   "file_extension": ".py",
   "mimetype": "text/x-python",
   "name": "python",
   "nbconvert_exporter": "python",
   "pygments_lexer": "ipython3",
   "version": "3.7.10"
  }
 },
 "nbformat": 4,
 "nbformat_minor": 4
}
