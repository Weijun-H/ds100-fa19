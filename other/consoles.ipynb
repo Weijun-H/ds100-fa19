{
 "cells": [
  {
   "cell_type": "code",
   "execution_count": 1,
   "metadata": {},
   "outputs": [],
   "source": [
    "import numpy as np\n",
    "import pandas as pd"
   ]
  },
  {
   "cell_type": "code",
   "execution_count": 2,
   "metadata": {},
   "outputs": [],
   "source": [
    "consoles = pd.DataFrame({\n",
    "    'name' : ['PS2', '360', 'DS', 'Atari 2600', 'Dreamcast', 'PS4'],\n",
    "    'generation' : [6, 7, 7, 2, 6, 8],\n",
    "    'manufacturer' : ['Sony', 'Microsoft', 'Nintendo', 'Atari', 'Sega', 'Sony'],\n",
    "    'type' : ['home', 'home' ,'handheld', 'home', 'home', 'home'],\n",
    "    'year' : [2000, 2005, 2004, 1977, 1998, 2013],\n",
    "    'sales' : [155, 84, 154, 30, 9, 110]\n",
    "})"
   ]
  },
  {
   "cell_type": "code",
   "execution_count": 11,
   "metadata": {},
   "outputs": [
    {
     "data": {
      "text/html": [
       "<div>\n",
       "<style scoped>\n",
       "    .dataframe tbody tr th:only-of-type {\n",
       "        vertical-align: middle;\n",
       "    }\n",
       "\n",
       "    .dataframe tbody tr th {\n",
       "        vertical-align: top;\n",
       "    }\n",
       "\n",
       "    .dataframe thead th {\n",
       "        text-align: right;\n",
       "    }\n",
       "</style>\n",
       "<table border=\"1\" class=\"dataframe\">\n",
       "  <thead>\n",
       "    <tr style=\"text-align: right;\">\n",
       "      <th></th>\n",
       "      <th>name</th>\n",
       "      <th>generation</th>\n",
       "      <th>manufacturer</th>\n",
       "      <th>type</th>\n",
       "      <th>year</th>\n",
       "      <th>sales</th>\n",
       "    </tr>\n",
       "  </thead>\n",
       "  <tbody>\n",
       "    <tr>\n",
       "      <th>0</th>\n",
       "      <td>PS2</td>\n",
       "      <td>6</td>\n",
       "      <td>Sony</td>\n",
       "      <td>home</td>\n",
       "      <td>2000</td>\n",
       "      <td>155</td>\n",
       "    </tr>\n",
       "    <tr>\n",
       "      <th>1</th>\n",
       "      <td>360</td>\n",
       "      <td>7</td>\n",
       "      <td>Microsoft</td>\n",
       "      <td>home</td>\n",
       "      <td>2005</td>\n",
       "      <td>84</td>\n",
       "    </tr>\n",
       "    <tr>\n",
       "      <th>2</th>\n",
       "      <td>DS</td>\n",
       "      <td>7</td>\n",
       "      <td>Nintendo</td>\n",
       "      <td>handheld</td>\n",
       "      <td>2004</td>\n",
       "      <td>154</td>\n",
       "    </tr>\n",
       "    <tr>\n",
       "      <th>3</th>\n",
       "      <td>Atari 2600</td>\n",
       "      <td>2</td>\n",
       "      <td>Atari</td>\n",
       "      <td>home</td>\n",
       "      <td>1977</td>\n",
       "      <td>30</td>\n",
       "    </tr>\n",
       "    <tr>\n",
       "      <th>4</th>\n",
       "      <td>Dreamcast</td>\n",
       "      <td>6</td>\n",
       "      <td>Sega</td>\n",
       "      <td>home</td>\n",
       "      <td>1998</td>\n",
       "      <td>9</td>\n",
       "    </tr>\n",
       "    <tr>\n",
       "      <th>5</th>\n",
       "      <td>PS4</td>\n",
       "      <td>8</td>\n",
       "      <td>Sony</td>\n",
       "      <td>home</td>\n",
       "      <td>2013</td>\n",
       "      <td>110</td>\n",
       "    </tr>\n",
       "  </tbody>\n",
       "</table>\n",
       "</div>"
      ],
      "text/plain": [
       "         name  generation manufacturer      type  year  sales\n",
       "0         PS2           6         Sony      home  2000    155\n",
       "1         360           7    Microsoft      home  2005     84\n",
       "2          DS           7     Nintendo  handheld  2004    154\n",
       "3  Atari 2600           2        Atari      home  1977     30\n",
       "4   Dreamcast           6         Sega      home  1998      9\n",
       "5         PS4           8         Sony      home  2013    110"
      ]
     },
     "execution_count": 11,
     "metadata": {},
     "output_type": "execute_result"
    }
   ],
   "source": [
    "consoles"
   ]
  },
  {
   "cell_type": "code",
   "execution_count": 19,
   "metadata": {},
   "outputs": [
    {
     "data": {
      "text/plain": [
       "6"
      ]
     },
     "execution_count": 19,
     "metadata": {},
     "output_type": "execute_result"
    }
   ],
   "source": [
    "consoles[consoles[\"manufacturer\"] == 'Sega'][\"generation\"].max()"
   ]
  },
  {
   "cell_type": "code",
   "execution_count": 20,
   "metadata": {},
   "outputs": [
    {
     "data": {
      "text/html": [
       "<div>\n",
       "<style scoped>\n",
       "    .dataframe tbody tr th:only-of-type {\n",
       "        vertical-align: middle;\n",
       "    }\n",
       "\n",
       "    .dataframe tbody tr th {\n",
       "        vertical-align: top;\n",
       "    }\n",
       "\n",
       "    .dataframe thead th {\n",
       "        text-align: right;\n",
       "    }\n",
       "</style>\n",
       "<table border=\"1\" class=\"dataframe\">\n",
       "  <thead>\n",
       "    <tr style=\"text-align: right;\">\n",
       "      <th></th>\n",
       "      <th>name</th>\n",
       "      <th>generation</th>\n",
       "      <th>manufacturer</th>\n",
       "      <th>type</th>\n",
       "      <th>year</th>\n",
       "      <th>sales</th>\n",
       "    </tr>\n",
       "  </thead>\n",
       "  <tbody>\n",
       "    <tr>\n",
       "      <th>0</th>\n",
       "      <td>PS2</td>\n",
       "      <td>6</td>\n",
       "      <td>Sony</td>\n",
       "      <td>home</td>\n",
       "      <td>2000</td>\n",
       "      <td>155</td>\n",
       "    </tr>\n",
       "    <tr>\n",
       "      <th>1</th>\n",
       "      <td>360</td>\n",
       "      <td>7</td>\n",
       "      <td>Microsoft</td>\n",
       "      <td>home</td>\n",
       "      <td>2005</td>\n",
       "      <td>84</td>\n",
       "    </tr>\n",
       "    <tr>\n",
       "      <th>2</th>\n",
       "      <td>DS</td>\n",
       "      <td>7</td>\n",
       "      <td>Nintendo</td>\n",
       "      <td>handheld</td>\n",
       "      <td>2004</td>\n",
       "      <td>154</td>\n",
       "    </tr>\n",
       "    <tr>\n",
       "      <th>3</th>\n",
       "      <td>Atari 2600</td>\n",
       "      <td>2</td>\n",
       "      <td>Atari</td>\n",
       "      <td>home</td>\n",
       "      <td>1977</td>\n",
       "      <td>30</td>\n",
       "    </tr>\n",
       "    <tr>\n",
       "      <th>5</th>\n",
       "      <td>PS4</td>\n",
       "      <td>8</td>\n",
       "      <td>Sony</td>\n",
       "      <td>home</td>\n",
       "      <td>2013</td>\n",
       "      <td>110</td>\n",
       "    </tr>\n",
       "  </tbody>\n",
       "</table>\n",
       "</div>"
      ],
      "text/plain": [
       "         name  generation manufacturer      type  year  sales\n",
       "0         PS2           6         Sony      home  2000    155\n",
       "1         360           7    Microsoft      home  2005     84\n",
       "2          DS           7     Nintendo  handheld  2004    154\n",
       "3  Atari 2600           2        Atari      home  1977     30\n",
       "5         PS4           8         Sony      home  2013    110"
      ]
     },
     "execution_count": 20,
     "metadata": {},
     "output_type": "execute_result"
    }
   ],
   "source": [
    "consoles.groupby(\"manufacturer\").filter(lambda x: min(x[\"sales\"]) >= 10)"
   ]
  },
  {
   "cell_type": "code",
   "execution_count": 21,
   "metadata": {},
   "outputs": [
    {
     "data": {
      "text/html": [
       "<div>\n",
       "<style scoped>\n",
       "    .dataframe tbody tr th:only-of-type {\n",
       "        vertical-align: middle;\n",
       "    }\n",
       "\n",
       "    .dataframe tbody tr th {\n",
       "        vertical-align: top;\n",
       "    }\n",
       "\n",
       "    .dataframe thead th {\n",
       "        text-align: right;\n",
       "    }\n",
       "</style>\n",
       "<table border=\"1\" class=\"dataframe\">\n",
       "  <thead>\n",
       "    <tr style=\"text-align: right;\">\n",
       "      <th></th>\n",
       "      <th>name</th>\n",
       "      <th>generation</th>\n",
       "      <th>manufacturer</th>\n",
       "      <th>year</th>\n",
       "      <th>sales</th>\n",
       "    </tr>\n",
       "    <tr>\n",
       "      <th>type</th>\n",
       "      <th></th>\n",
       "      <th></th>\n",
       "      <th></th>\n",
       "      <th></th>\n",
       "      <th></th>\n",
       "    </tr>\n",
       "  </thead>\n",
       "  <tbody>\n",
       "    <tr>\n",
       "      <th>handheld</th>\n",
       "      <td>DS</td>\n",
       "      <td>7</td>\n",
       "      <td>Nintendo</td>\n",
       "      <td>2004</td>\n",
       "      <td>154</td>\n",
       "    </tr>\n",
       "    <tr>\n",
       "      <th>home</th>\n",
       "      <td>PS2</td>\n",
       "      <td>6</td>\n",
       "      <td>Sony</td>\n",
       "      <td>2000</td>\n",
       "      <td>155</td>\n",
       "    </tr>\n",
       "  </tbody>\n",
       "</table>\n",
       "</div>"
      ],
      "text/plain": [
       "         name  generation manufacturer  year  sales\n",
       "type                                               \n",
       "handheld   DS           7     Nintendo  2004    154\n",
       "home      PS2           6         Sony  2000    155"
      ]
     },
     "execution_count": 21,
     "metadata": {},
     "output_type": "execute_result"
    }
   ],
   "source": [
    "consoles.sort_values(\"sales\").groupby(\"type\").last()"
   ]
  },
  {
   "cell_type": "code",
   "execution_count": null,
   "metadata": {},
   "outputs": [],
   "source": []
  }
 ],
 "metadata": {
  "kernelspec": {
   "display_name": "Python 3",
   "language": "python",
   "name": "python3"
  },
  "language_info": {
   "codemirror_mode": {
    "name": "ipython",
    "version": 3
   },
   "file_extension": ".py",
   "mimetype": "text/x-python",
   "name": "python",
   "nbconvert_exporter": "python",
   "pygments_lexer": "ipython3",
   "version": "3.7.3"
  }
 },
 "nbformat": 4,
 "nbformat_minor": 2
}
