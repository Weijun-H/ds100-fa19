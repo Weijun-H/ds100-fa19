{
 "cells": [
  {
   "cell_type": "code",
   "execution_count": 167,
   "metadata": {},
   "outputs": [],
   "source": [
    "import re\n",
    "orders = ['9bigmacs?', '40fries?fhw?', 'sevensprites?', '0000009nuggets?mj1i2', 'sofjsd35mcflurries?1quarterpounder?', '534salads?burgerkingisking!']\n",
    "pattern = r''"
   ]
  },
  {
   "cell_type": "code",
   "execution_count": 168,
   "metadata": {},
   "outputs": [
    {
     "name": "stdout",
     "output_type": "stream",
     "text": [
      "['9bigmacs']\n",
      "['40fries']\n",
      "[]\n",
      "['09nuggets']\n",
      "['35mcflurries', '1quarterpounder']\n",
      "['34salads']\n"
     ]
    }
   ],
   "source": [
    "for order in orders:\n",
    "    print(re.findall(pattern, order))"
   ]
  },
  {
   "cell_type": "code",
   "execution_count": null,
   "metadata": {},
   "outputs": [],
   "source": []
  }
 ],
 "metadata": {
  "kernelspec": {
   "display_name": "Python 3",
   "language": "python",
   "name": "python3"
  },
  "language_info": {
   "codemirror_mode": {
    "name": "ipython",
    "version": 3
   },
   "file_extension": ".py",
   "mimetype": "text/x-python",
   "name": "python",
   "nbconvert_exporter": "python",
   "pygments_lexer": "ipython3",
   "version": "3.8.3"
  }
 },
 "nbformat": 4,
 "nbformat_minor": 2
}
